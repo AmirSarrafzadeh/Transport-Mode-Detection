{
 "cells": [
  {
   "cell_type": "code",
   "execution_count": null,
   "metadata": {
    "colab": {
     "base_uri": "https://localhost:8080/"
    },
    "executionInfo": {
     "elapsed": 18958,
     "status": "ok",
     "timestamp": 1624562772353,
     "user": {
      "displayName": "Amir sarrafzadeh",
      "photoUrl": "https://lh3.googleusercontent.com/a-/AOh14GgF4jrw5H5CJhyyB1ApCoS9hQnBVQeXVXHtH8_pLQ=s64",
      "userId": "14181695720010602226"
     },
     "user_tz": -120
    },
    "id": "KPpdD3JqqFJ4",
    "outputId": "bb83c305-0b32-4771-f1bc-0bcc7ccd2cf9"
   },
   "outputs": [
    {
     "name": "stdout",
     "output_type": "stream",
     "text": [
      "Mounted at /content/gdrive\n"
     ]
    }
   ],
   "source": [
    "# Mount The Google Drive\n",
    "from google.colab import drive\n",
    "drive.mount('/content/gdrive')"
   ]
  },
  {
   "cell_type": "code",
   "execution_count": null,
   "metadata": {
    "colab": {
     "base_uri": "https://localhost:8080/"
    },
    "executionInfo": {
     "elapsed": 548,
     "status": "ok",
     "timestamp": 1624567776279,
     "user": {
      "displayName": "Amir sarrafzadeh",
      "photoUrl": "https://lh3.googleusercontent.com/a-/AOh14GgF4jrw5H5CJhyyB1ApCoS9hQnBVQeXVXHtH8_pLQ=s64",
      "userId": "14181695720010602226"
     },
     "user_tz": -120
    },
    "id": "7Z4iBvkGqG_g",
    "outputId": "b6371938-23c4-4afd-d390-8a834c7e1107"
   },
   "outputs": [
    {
     "name": "stdout",
     "output_type": "stream",
     "text": [
      "Libraries are imported\n"
     ]
    }
   ],
   "source": [
    "# Import Libraries\n",
    "import os\n",
    "import numpy as np\n",
    "import pandas as pd\n",
    "import time \n",
    "import datetime\n",
    "import pickle\n",
    "pd.options.mode.chained_assignment = None\n",
    "print(\"Libraries are imported\")"
   ]
  },
  {
   "cell_type": "code",
   "execution_count": null,
   "metadata": {
    "id": "wjk2T3wUqHE-"
   },
   "outputs": [],
   "source": [
    "# Define Path of GPS Data\n",
    "path = '---------------------------------'\n",
    "os.chdir(path)"
   ]
  },
  {
   "cell_type": "code",
   "execution_count": null,
   "metadata": {
    "id": "5QTlTU1uqFKB"
   },
   "outputs": [],
   "source": [
    "# Read GPS Data\n",
    "df_list = os.listdir()\n",
    "df = []\n",
    "for i in df_list:\n",
    "    with open(f'{i}', 'rb') as f:\n",
    "        df.append(f.readlines())"
   ]
  },
  {
   "cell_type": "code",
   "execution_count": null,
   "metadata": {
    "id": "wX7HPoRZqFKB"
   },
   "outputs": [],
   "source": [
    "temp = []\n",
    "for i in range(len(df_list)):\n",
    "    txt = df_list[i]\n",
    "    User = ''.join((ch if ch in '0123456789' else '') for ch in txt)\n",
    "    temp.append(User)"
   ]
  },
  {
   "cell_type": "code",
   "execution_count": null,
   "metadata": {
    "id": "qgbqYfJAqFKC"
   },
   "outputs": [],
   "source": [
    "# Define User list\n",
    "User_list = []\n",
    "for i in temp:\n",
    "    User_list.append(int(i))"
   ]
  },
  {
   "cell_type": "code",
   "execution_count": null,
   "metadata": {
    "id": "1CHIL-gpqFKD"
   },
   "outputs": [],
   "source": [
    "# Read Latitude, Longitude, Altitude, Date, Time, User\n",
    "Lat = []\n",
    "Lon = []\n",
    "Alt = []\n",
    "Date = []\n",
    "Time = []\n",
    "User = []\n",
    "\n",
    "for i in range(len(df)):\n",
    "    del df[i][0:6]\n",
    "    del df[i][-1]\n",
    "    for j in range(len(df[i])):\n",
    "        line = str(df[i][j]).split(\",\")\n",
    "        if len(line) == 7:\n",
    "            Lat.append(line[0][2:])\n",
    "            Lon.append(line[1])\n",
    "            Alt.append(line[4])\n",
    "            Date.append(line[5])\n",
    "            Time.append(line[6][0:8])\n",
    "            User.append(User_list[i])  "
   ]
  },
  {
   "cell_type": "code",
   "execution_count": null,
   "metadata": {
    "id": "T6XHDSUZqFKD"
   },
   "outputs": [],
   "source": [
    "Data = {'Latitude':Lat, 'Longitude':Lon, 'Altitude':Alt, 'Date':Date, 'Time':Time, 'User':User}\n",
    "DF = pd.DataFrame(Data)"
   ]
  },
  {
   "cell_type": "code",
   "execution_count": null,
   "metadata": {
    "id": "kTCfQMr0qFKE"
   },
   "outputs": [],
   "source": [
    "DF['TS1'] = DF['Date'] + \" \" + DF['Time']"
   ]
  },
  {
   "cell_type": "code",
   "execution_count": null,
   "metadata": {
    "id": "C--oWt9zqFKE"
   },
   "outputs": [],
   "source": [
    "# Change Date and Time to Timestamp\n",
    "ST = []\n",
    "for i in DF['TS1']:\n",
    "    element = datetime.datetime.strptime(i,\"%Y-%m-%d %H:%M:%S\") \n",
    "    ST.append(datetime.datetime.timestamp(element))"
   ]
  },
  {
   "cell_type": "code",
   "execution_count": null,
   "metadata": {
    "id": "ZLrg9YZzqFKE"
   },
   "outputs": [],
   "source": [
    "DF['TS'] = ST\n",
    "DF.drop('TS1', inplace = True, axis = 1)"
   ]
  },
  {
   "cell_type": "code",
   "execution_count": null,
   "metadata": {
    "id": "XWk3Dj2ZtkK0"
   },
   "outputs": [],
   "source": [
    "# Define Trip\n",
    "DF['Trip'] = np.nan\n",
    "DF['Trip'].iloc[0] = 1"
   ]
  },
  {
   "cell_type": "code",
   "execution_count": null,
   "metadata": {
    "id": "sZDJXeXAuXSR"
   },
   "outputs": [],
   "source": [
    "# If User Changes it is a New Trip\n",
    "# If Time Difference between 2 GPS rows higher than 60 Seconds it is a New Trip\n",
    "Limit = 600\n",
    "counter = 2\n",
    "for i in range(len(DF)-1):\n",
    "  Time_Dif = DF['TS'].iloc[i+1] - DF['TS'].iloc[i]\n",
    "  if DF['User'].iloc[i] != DF['User'].iloc[i+1] or Time_Dif > Limit:\n",
    "    DF['Trip'].iloc[i+1] = counter\n",
    "    counter += 1"
   ]
  },
  {
   "cell_type": "code",
   "execution_count": null,
   "metadata": {
    "colab": {
     "base_uri": "https://localhost:8080/"
    },
    "executionInfo": {
     "elapsed": 16,
     "status": "ok",
     "timestamp": 1624568186200,
     "user": {
      "displayName": "Amir sarrafzadeh",
      "photoUrl": "https://lh3.googleusercontent.com/a-/AOh14GgF4jrw5H5CJhyyB1ApCoS9hQnBVQeXVXHtH8_pLQ=s64",
      "userId": "14181695720010602226"
     },
     "user_tz": -120
    },
    "id": "7tOB410Q5Zwx",
    "outputId": "22b985d5-ca78-4282-e8cb-ec871392169e"
   },
   "outputs": [
    {
     "data": {
      "text/plain": [
       "20202"
      ]
     },
     "execution_count": 17,
     "metadata": {
      "tags": []
     },
     "output_type": "execute_result"
    }
   ],
   "source": [
    "# Total Number of Trips\n",
    "All_Trips = counter - 1\n",
    "All_Trips"
   ]
  },
  {
   "cell_type": "code",
   "execution_count": null,
   "metadata": {
    "id": "ffT6btqbuXZh"
   },
   "outputs": [],
   "source": [
    "DF.fillna(method='ffill', inplace = True)"
   ]
  },
  {
   "cell_type": "code",
   "execution_count": null,
   "metadata": {
    "colab": {
     "base_uri": "https://localhost:8080/",
     "height": 204
    },
    "executionInfo": {
     "elapsed": 333,
     "status": "ok",
     "timestamp": 1624568273191,
     "user": {
      "displayName": "Amir sarrafzadeh",
      "photoUrl": "https://lh3.googleusercontent.com/a-/AOh14GgF4jrw5H5CJhyyB1ApCoS9hQnBVQeXVXHtH8_pLQ=s64",
      "userId": "14181695720010602226"
     },
     "user_tz": -120
    },
    "id": "tEC3W8OZ7Mnx",
    "outputId": "6cd75d60-32b2-4d84-9d88-bf5a5df4397f"
   },
   "outputs": [
    {
     "data": {
      "text/html": [
       "<div>\n",
       "<style scoped>\n",
       "    .dataframe tbody tr th:only-of-type {\n",
       "        vertical-align: middle;\n",
       "    }\n",
       "\n",
       "    .dataframe tbody tr th {\n",
       "        vertical-align: top;\n",
       "    }\n",
       "\n",
       "    .dataframe thead th {\n",
       "        text-align: right;\n",
       "    }\n",
       "</style>\n",
       "<table border=\"1\" class=\"dataframe\">\n",
       "  <thead>\n",
       "    <tr style=\"text-align: right;\">\n",
       "      <th></th>\n",
       "      <th>Latitude</th>\n",
       "      <th>Longitude</th>\n",
       "      <th>Altitude</th>\n",
       "      <th>Date</th>\n",
       "      <th>Time</th>\n",
       "      <th>User</th>\n",
       "      <th>TS</th>\n",
       "      <th>Trip</th>\n",
       "    </tr>\n",
       "  </thead>\n",
       "  <tbody>\n",
       "    <tr>\n",
       "      <th>0</th>\n",
       "      <td>39.974408918</td>\n",
       "      <td>116.303522101</td>\n",
       "      <td>40753.5306944444</td>\n",
       "      <td>2011-07-29</td>\n",
       "      <td>12:44:12</td>\n",
       "      <td>100</td>\n",
       "      <td>1.311943e+09</td>\n",
       "      <td>1.0</td>\n",
       "    </tr>\n",
       "    <tr>\n",
       "      <th>1</th>\n",
       "      <td>39.974397078</td>\n",
       "      <td>116.303526932</td>\n",
       "      <td>40753.5307060185</td>\n",
       "      <td>2011-07-29</td>\n",
       "      <td>12:44:13</td>\n",
       "      <td>100</td>\n",
       "      <td>1.311943e+09</td>\n",
       "      <td>1.0</td>\n",
       "    </tr>\n",
       "    <tr>\n",
       "      <th>2</th>\n",
       "      <td>39.973982524</td>\n",
       "      <td>116.303621837</td>\n",
       "      <td>40753.5307291667</td>\n",
       "      <td>2011-07-29</td>\n",
       "      <td>12:44:15</td>\n",
       "      <td>100</td>\n",
       "      <td>1.311943e+09</td>\n",
       "      <td>1.0</td>\n",
       "    </tr>\n",
       "    <tr>\n",
       "      <th>3</th>\n",
       "      <td>39.973943291</td>\n",
       "      <td>116.303632641</td>\n",
       "      <td>40753.5307407407</td>\n",
       "      <td>2011-07-29</td>\n",
       "      <td>12:44:16</td>\n",
       "      <td>100</td>\n",
       "      <td>1.311943e+09</td>\n",
       "      <td>1.0</td>\n",
       "    </tr>\n",
       "    <tr>\n",
       "      <th>4</th>\n",
       "      <td>39.973937148</td>\n",
       "      <td>116.303639667</td>\n",
       "      <td>40753.5307523148</td>\n",
       "      <td>2011-07-29</td>\n",
       "      <td>12:44:17</td>\n",
       "      <td>100</td>\n",
       "      <td>1.311943e+09</td>\n",
       "      <td>1.0</td>\n",
       "    </tr>\n",
       "  </tbody>\n",
       "</table>\n",
       "</div>"
      ],
      "text/plain": [
       "       Latitude      Longitude          Altitude  ... User            TS  Trip\n",
       "0  39.974408918  116.303522101  40753.5306944444  ...  100  1.311943e+09   1.0\n",
       "1  39.974397078  116.303526932  40753.5307060185  ...  100  1.311943e+09   1.0\n",
       "2  39.973982524  116.303621837  40753.5307291667  ...  100  1.311943e+09   1.0\n",
       "3  39.973943291  116.303632641  40753.5307407407  ...  100  1.311943e+09   1.0\n",
       "4  39.973937148  116.303639667  40753.5307523148  ...  100  1.311943e+09   1.0\n",
       "\n",
       "[5 rows x 8 columns]"
      ]
     },
     "execution_count": 22,
     "metadata": {
      "tags": []
     },
     "output_type": "execute_result"
    }
   ],
   "source": [
    "DF.head()"
   ]
  },
  {
   "cell_type": "code",
   "execution_count": null,
   "metadata": {
    "id": "387Uym5GfqiY"
   },
   "outputs": [],
   "source": [
    "# Define Path for Pickle Data\n",
    "path = '---------------------------------'\n",
    "os.chdir(path)"
   ]
  },
  {
   "cell_type": "code",
   "execution_count": null,
   "metadata": {
    "id": "vfqbKgdWqFKF"
   },
   "outputs": [],
   "source": [
    "# Save All GPS Trips in a DataFrame\n",
    "with open(\"001_All_GeoLife_GPS.pickle\", 'wb') as f: \n",
    "    pickle.dump(DF, f)"
   ]
  },
  {
   "cell_type": "code",
   "execution_count": null,
   "metadata": {
    "id": "_8LliIkqgPIf"
   },
   "outputs": [],
   "source": []
  }
 ],
 "metadata": {
  "accelerator": "GPU",
  "colab": {
   "collapsed_sections": [],
   "machine_shape": "hm",
   "name": "001_Read_GPS_Data.ipynb",
   "provenance": []
  },
  "kernelspec": {
   "display_name": "Python 3",
   "language": "python",
   "name": "python3"
  },
  "language_info": {
   "codemirror_mode": {
    "name": "ipython",
    "version": 3
   },
   "file_extension": ".py",
   "mimetype": "text/x-python",
   "name": "python",
   "nbconvert_exporter": "python",
   "pygments_lexer": "ipython3",
   "version": "3.7.10"
  }
 },
 "nbformat": 4,
 "nbformat_minor": 1
}
