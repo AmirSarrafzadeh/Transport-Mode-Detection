{
 "cells": [
  {
   "cell_type": "code",
   "execution_count": null,
   "metadata": {
    "colab": {
     "base_uri": "https://localhost:8080/"
    },
    "executionInfo": {
     "elapsed": 18886,
     "status": "ok",
     "timestamp": 1624568462059,
     "user": {
      "displayName": "Amir sarrafzadeh",
      "photoUrl": "https://lh3.googleusercontent.com/a-/AOh14GgF4jrw5H5CJhyyB1ApCoS9hQnBVQeXVXHtH8_pLQ=s64",
      "userId": "14181695720010602226"
     },
     "user_tz": -120
    },
    "id": "KPpdD3JqqFJ4",
    "outputId": "9c822959-689a-460a-a38b-9a0fe33fea0a"
   },
   "outputs": [
    {
     "name": "stdout",
     "output_type": "stream",
     "text": [
      "Mounted at /content/gdrive\n"
     ]
    }
   ],
   "source": [
    "# Mount Google Drive\n",
    "from google.colab import drive\n",
    "drive.mount('/content/gdrive')"
   ]
  },
  {
   "cell_type": "code",
   "execution_count": null,
   "metadata": {
    "colab": {
     "base_uri": "https://localhost:8080/"
    },
    "executionInfo": {
     "elapsed": 313,
     "status": "ok",
     "timestamp": 1624568464112,
     "user": {
      "displayName": "Amir sarrafzadeh",
      "photoUrl": "https://lh3.googleusercontent.com/a-/AOh14GgF4jrw5H5CJhyyB1ApCoS9hQnBVQeXVXHtH8_pLQ=s64",
      "userId": "14181695720010602226"
     },
     "user_tz": -120
    },
    "id": "7Z4iBvkGqG_g",
    "outputId": "c08288a5-51f3-4306-aeb9-506ccd58d5f4"
   },
   "outputs": [
    {
     "name": "stdout",
     "output_type": "stream",
     "text": [
      "Libraries are Imported\n"
     ]
    }
   ],
   "source": [
    "# Import Libraries\n",
    "import os\n",
    "import pandas as pd\n",
    "import numpy as np\n",
    "import time \n",
    "import datetime\n",
    "pd.options.mode.chained_assignment = None\n",
    "print(\"Libraries are Imported\")"
   ]
  },
  {
   "cell_type": "code",
   "execution_count": null,
   "metadata": {
    "id": "wjk2T3wUqHE-"
   },
   "outputs": [],
   "source": [
    "# Define Path of Label Data\n",
    "path = '---------------------------------'\n",
    "os.chdir(path)"
   ]
  },
  {
   "cell_type": "code",
   "execution_count": null,
   "metadata": {
    "id": "5QTlTU1uqFKB"
   },
   "outputs": [],
   "source": [
    "# Read Label Data\n",
    "df_list = os.listdir()\n",
    "df = []\n",
    "for i in df_list:\n",
    "    with open(f'{i}', 'rb') as f:\n",
    "        df.append(f.readlines())"
   ]
  },
  {
   "cell_type": "code",
   "execution_count": null,
   "metadata": {
    "id": "wX7HPoRZqFKB"
   },
   "outputs": [],
   "source": [
    "mm = []\n",
    "for i in range(len(df_list)):\n",
    "    txt = df_list[i]\n",
    "    User = ''.join((ch if ch in '0123456789' else '') for ch in txt)\n",
    "    mm.append(User)"
   ]
  },
  {
   "cell_type": "code",
   "execution_count": null,
   "metadata": {
    "id": "qgbqYfJAqFKC"
   },
   "outputs": [],
   "source": [
    "# Define User List\n",
    "User_list = []\n",
    "for i in mm:\n",
    "    User_list.append(int(i))"
   ]
  },
  {
   "cell_type": "code",
   "execution_count": null,
   "metadata": {
    "id": "EAnTpvkMKNO_"
   },
   "outputs": [],
   "source": [
    "# Read Start - End - Mode - User from Label Data\n",
    "Start = []\n",
    "End = []\n",
    "Mode = []\n",
    "User = []\n",
    "\n",
    "for i in range(len(df)):\n",
    "    del df[i][0]\n",
    "    for j in range(len(df[i])):\n",
    "        line = str(df[i][j]).split(\"\\n\")[0]\n",
    "        St = line.split(\"\\\\t\")[0].split(\"'\")[1]\n",
    "        En = line.split(\"\\\\t\")[1]\n",
    "        Mo = line.split(\"\\\\t\")[2].split(\"\\\\r\")[0]\n",
    "        Start.append(St)\n",
    "        End.append(En)\n",
    "        Mode.append(Mo)\n",
    "        User.append(User_list[i])"
   ]
  },
  {
   "cell_type": "code",
   "execution_count": null,
   "metadata": {
    "id": "Tvp2Qh9ZODou"
   },
   "outputs": [],
   "source": [
    "# Make DataFrame\n",
    "Data = {'Start':Start, 'End':End, 'Mode':Mode, 'User':User}\n",
    "DD = pd.DataFrame(Data)"
   ]
  },
  {
   "cell_type": "code",
   "execution_count": null,
   "metadata": {
    "id": "C--oWt9zqFKE"
   },
   "outputs": [],
   "source": [
    "# Change Date and Time of Start to Timestamp\n",
    "ST = []\n",
    "for i in DD['Start']:\n",
    "    element = datetime.datetime.strptime(i,\"%Y/%m/%d %H:%M:%S\") \n",
    "    ST.append(datetime.datetime.timestamp(element))"
   ]
  },
  {
   "cell_type": "code",
   "execution_count": null,
   "metadata": {
    "id": "ZLrg9YZzqFKE"
   },
   "outputs": [],
   "source": [
    "# Change Date and Time of End to Timestamp\n",
    "En = []\n",
    "for i in DD['End']:\n",
    "    element = datetime.datetime.strptime(i,\"%Y/%m/%d %H:%M:%S\") \n",
    "    En.append(datetime.datetime.timestamp(element))"
   ]
  },
  {
   "cell_type": "code",
   "execution_count": null,
   "metadata": {
    "id": "5wMQinw9qFKF"
   },
   "outputs": [],
   "source": [
    "DD['Start_TS'] = ST\n",
    "DD['End_TS'] = En"
   ]
  },
  {
   "cell_type": "code",
   "execution_count": null,
   "metadata": {
    "colab": {
     "base_uri": "https://localhost:8080/",
     "height": 204
    },
    "executionInfo": {
     "elapsed": 18,
     "status": "ok",
     "timestamp": 1624568488490,
     "user": {
      "displayName": "Amir sarrafzadeh",
      "photoUrl": "https://lh3.googleusercontent.com/a-/AOh14GgF4jrw5H5CJhyyB1ApCoS9hQnBVQeXVXHtH8_pLQ=s64",
      "userId": "14181695720010602226"
     },
     "user_tz": -120
    },
    "id": "RWqThUzvtkDD",
    "outputId": "9fc5d5c8-720b-4d42-856b-a75e8d81aacf"
   },
   "outputs": [
    {
     "data": {
      "text/html": [
       "<div>\n",
       "<style scoped>\n",
       "    .dataframe tbody tr th:only-of-type {\n",
       "        vertical-align: middle;\n",
       "    }\n",
       "\n",
       "    .dataframe tbody tr th {\n",
       "        vertical-align: top;\n",
       "    }\n",
       "\n",
       "    .dataframe thead th {\n",
       "        text-align: right;\n",
       "    }\n",
       "</style>\n",
       "<table border=\"1\" class=\"dataframe\">\n",
       "  <thead>\n",
       "    <tr style=\"text-align: right;\">\n",
       "      <th></th>\n",
       "      <th>Start</th>\n",
       "      <th>End</th>\n",
       "      <th>Mode</th>\n",
       "      <th>User</th>\n",
       "      <th>Start_TS</th>\n",
       "      <th>End_TS</th>\n",
       "    </tr>\n",
       "  </thead>\n",
       "  <tbody>\n",
       "    <tr>\n",
       "      <th>0</th>\n",
       "      <td>2007/11/30 09:59:00</td>\n",
       "      <td>2007/11/30 10:38:00</td>\n",
       "      <td>bus</td>\n",
       "      <td>104</td>\n",
       "      <td>1.196417e+09</td>\n",
       "      <td>1.196419e+09</td>\n",
       "    </tr>\n",
       "    <tr>\n",
       "      <th>1</th>\n",
       "      <td>2007/11/30 12:40:00</td>\n",
       "      <td>2007/11/30 13:18:00</td>\n",
       "      <td>bus</td>\n",
       "      <td>104</td>\n",
       "      <td>1.196426e+09</td>\n",
       "      <td>1.196429e+09</td>\n",
       "    </tr>\n",
       "    <tr>\n",
       "      <th>2</th>\n",
       "      <td>2007/12/02 12:27:00</td>\n",
       "      <td>2007/12/02 12:57:00</td>\n",
       "      <td>bus</td>\n",
       "      <td>104</td>\n",
       "      <td>1.196598e+09</td>\n",
       "      <td>1.196600e+09</td>\n",
       "    </tr>\n",
       "    <tr>\n",
       "      <th>3</th>\n",
       "      <td>2007/12/02 13:00:00</td>\n",
       "      <td>2007/12/02 13:25:00</td>\n",
       "      <td>bus</td>\n",
       "      <td>104</td>\n",
       "      <td>1.196600e+09</td>\n",
       "      <td>1.196602e+09</td>\n",
       "    </tr>\n",
       "    <tr>\n",
       "      <th>4</th>\n",
       "      <td>2007/12/04 07:45:00</td>\n",
       "      <td>2007/12/04 08:30:00</td>\n",
       "      <td>car</td>\n",
       "      <td>104</td>\n",
       "      <td>1.196754e+09</td>\n",
       "      <td>1.196757e+09</td>\n",
       "    </tr>\n",
       "  </tbody>\n",
       "</table>\n",
       "</div>"
      ],
      "text/plain": [
       "                 Start                  End  ...      Start_TS        End_TS\n",
       "0  2007/11/30 09:59:00  2007/11/30 10:38:00  ...  1.196417e+09  1.196419e+09\n",
       "1  2007/11/30 12:40:00  2007/11/30 13:18:00  ...  1.196426e+09  1.196429e+09\n",
       "2  2007/12/02 12:27:00  2007/12/02 12:57:00  ...  1.196598e+09  1.196600e+09\n",
       "3  2007/12/02 13:00:00  2007/12/02 13:25:00  ...  1.196600e+09  1.196602e+09\n",
       "4  2007/12/04 07:45:00  2007/12/04 08:30:00  ...  1.196754e+09  1.196757e+09\n",
       "\n",
       "[5 rows x 6 columns]"
      ]
     },
     "execution_count": 12,
     "metadata": {
      "tags": []
     },
     "output_type": "execute_result"
    }
   ],
   "source": [
    "DD.head()"
   ]
  },
  {
   "cell_type": "code",
   "execution_count": null,
   "metadata": {
    "id": "JKWmZVS60vzE"
   },
   "outputs": [],
   "source": [
    "# Define Path for Pickle Data\n",
    "path = '---------------------------------'\n",
    "os.chdir(path)"
   ]
  },
  {
   "cell_type": "code",
   "execution_count": null,
   "metadata": {
    "id": "vfqbKgdWqFKF"
   },
   "outputs": [],
   "source": [
    "import pickle\n",
    "with open(\"002_All_GeoLife_Label.pickle\", 'wb') as f: \n",
    "    pickle.dump(DD, f)"
   ]
  },
  {
   "cell_type": "code",
   "execution_count": null,
   "metadata": {
    "id": "QnwRR89U0-yd"
   },
   "outputs": [],
   "source": []
  }
 ],
 "metadata": {
  "accelerator": "GPU",
  "colab": {
   "collapsed_sections": [],
   "machine_shape": "hm",
   "name": "002_Read_Label_Data.ipynb",
   "provenance": []
  },
  "kernelspec": {
   "display_name": "Python 3",
   "language": "python",
   "name": "python3"
  },
  "language_info": {
   "codemirror_mode": {
    "name": "ipython",
    "version": 3
   },
   "file_extension": ".py",
   "mimetype": "text/x-python",
   "name": "python",
   "nbconvert_exporter": "python",
   "pygments_lexer": "ipython3",
   "version": "3.7.10"
  }
 },
 "nbformat": 4,
 "nbformat_minor": 1
}
