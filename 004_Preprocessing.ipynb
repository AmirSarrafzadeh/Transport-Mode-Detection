{
 "cells": [
  {
   "cell_type": "code",
   "execution_count": null,
   "metadata": {
    "id": "KPpdD3JqqFJ4"
   },
   "outputs": [],
   "source": [
    "# Mount The Google Drive\n",
    "from google.colab import drive\n",
    "drive.mount('/content/gdrive')"
   ]
  },
  {
   "cell_type": "code",
   "execution_count": null,
   "metadata": {
    "id": "7Z4iBvkGqG_g"
   },
   "outputs": [],
   "source": [
    "# Import Libraries\n",
    "import os\n",
    "import numpy as np\n",
    "import pandas as pd\n",
    "import time \n",
    "import datetime\n",
    "import pickle\n",
    "import random\n",
    "import math\n",
    "from geopy.distance import vincenty\n",
    "pd.options.mode.chained_assignment = None\n",
    "print(\"Libraries Are Imported\")"
   ]
  },
  {
   "cell_type": "code",
   "execution_count": null,
   "metadata": {
    "id": "FSh1DtYiRC8U"
   },
   "outputs": [],
   "source": [
    "# Define Path of Data\n",
    "path = '---------------------------------'\n",
    "os.chdir(path)"
   ]
  },
  {
   "cell_type": "code",
   "execution_count": null,
   "metadata": {
    "id": "hOWzzX7x3Uem"
   },
   "outputs": [],
   "source": [
    "# Read The Labeled Data\n",
    "Data = '003_Labeled_GeoLife.pickle'\n",
    "infile = open(Data,'rb')\n",
    "df = pickle.load(infile)\n",
    "infile.close()"
   ]
  },
  {
   "cell_type": "code",
   "execution_count": null,
   "metadata": {
    "id": "rKjdPovP3hYz"
   },
   "outputs": [],
   "source": [
    "DF = pd.DataFrame()\n",
    "for i , j in df.items():\n",
    "  DF = DF.append(j)"
   ]
  },
  {
   "cell_type": "code",
   "execution_count": null,
   "metadata": {
    "id": "AwmTtYAHozEe"
   },
   "outputs": [],
   "source": [
    "# Select Just These Modes for the Project\n",
    "Pr_Mode = ['bus', 'car', 'walk', 'bike', 'taxi', 'train', 'subway']"
   ]
  },
  {
   "cell_type": "code",
   "execution_count": null,
   "metadata": {
    "id": "r8oXGi-uiMQN"
   },
   "outputs": [],
   "source": [
    "DF = DF[DF['Mode'].isin(Pr_Mode)]"
   ]
  },
  {
   "cell_type": "code",
   "execution_count": null,
   "metadata": {
    "id": "v15RUHF5Gxir"
   },
   "outputs": [],
   "source": [
    "DF.shape"
   ]
  },
  {
   "cell_type": "code",
   "execution_count": null,
   "metadata": {
    "id": "7P1Pgs0d7wUR"
   },
   "outputs": [],
   "source": [
    "df = DF.copy()"
   ]
  },
  {
   "cell_type": "code",
   "execution_count": null,
   "metadata": {
    "id": "9A5taMplArmb"
   },
   "outputs": [],
   "source": [
    "df.reset_index(drop = True, inplace = True)"
   ]
  },
  {
   "cell_type": "code",
   "execution_count": null,
   "metadata": {
    "id": "6rixZuCe8-Hg"
   },
   "outputs": [],
   "source": [
    "# Drop rows with Equal Times\n",
    "Equal_Times = []\n",
    "for i in range(len(df) - 1):\n",
    "  if df['Trip'].iloc[i] == df['Trip'].iloc[i+1] and df['TS'].iloc[i] == df['TS'].iloc[i+1]:\n",
    "    Equal_Times.append(i)\n",
    "\n",
    "df = df.drop(df.index[Equal_Times])"
   ]
  },
  {
   "cell_type": "code",
   "execution_count": null,
   "metadata": {
    "id": "IDfu7IEGT59M"
   },
   "outputs": [],
   "source": [
    "# Calculate Distance between GPS pints using Vincenty Formula\n",
    "Dist = []\n",
    "for i in range(len(df)-1):\n",
    "  A = (df['Latitude'].iloc[i], df['Longitude'].iloc[i])\n",
    "  B = (df['Latitude'].iloc[i+1], df['Longitude'].iloc[i+1])\n",
    "  Dist.append(vincenty(A, B).meters)"
   ]
  },
  {
   "cell_type": "code",
   "execution_count": null,
   "metadata": {
    "id": "_vwfqeZmT6Ay"
   },
   "outputs": [],
   "source": [
    "# Insert Distance of First point from itself equal to zero\n",
    "Dist.insert(0, 0)"
   ]
  },
  {
   "cell_type": "code",
   "execution_count": null,
   "metadata": {
    "id": "OkZJGLHlT6Dk"
   },
   "outputs": [],
   "source": [
    "df['Distance'] = Dist"
   ]
  },
  {
   "cell_type": "code",
   "execution_count": null,
   "metadata": {
    "id": "ogqMkG7tT6Go"
   },
   "outputs": [],
   "source": [
    "# Distance at Start of each trip is equal to zero\n",
    "for i in range(len(df)-1):\n",
    "  if df['Trip'].iloc[i] != df['Trip'].iloc[i+1]:\n",
    "    df['Distance'].iloc[i+1] = 0"
   ]
  },
  {
   "cell_type": "code",
   "execution_count": null,
   "metadata": {
    "id": "aOMjSWqVT6I_"
   },
   "outputs": [],
   "source": [
    "# Calculate Delta Time\n",
    "DT = []\n",
    "for i in range(len(df)-1):\n",
    "  DT.append(df['TS'].iloc[i+1] - df['TS'].iloc[i])"
   ]
  },
  {
   "cell_type": "code",
   "execution_count": null,
   "metadata": {
    "id": "KXAFeS-dT6Lj"
   },
   "outputs": [],
   "source": [
    "DT.insert(0, 0)"
   ]
  },
  {
   "cell_type": "code",
   "execution_count": null,
   "metadata": {
    "id": "5ZbMDCW9T6Nn"
   },
   "outputs": [],
   "source": [
    "df['DT'] = DT"
   ]
  },
  {
   "cell_type": "code",
   "execution_count": null,
   "metadata": {
    "id": "ruxYqqIGT6QL"
   },
   "outputs": [],
   "source": [
    "for i in range(len(df)-1):\n",
    "  if df['Trip'].iloc[i] != df['Trip'].iloc[i+1]:\n",
    "    df['DT'].iloc[i+1] = 0"
   ]
  },
  {
   "cell_type": "code",
   "execution_count": null,
   "metadata": {
    "id": "m2Zt1TKlyftF"
   },
   "outputs": [],
   "source": [
    "# Compute the Speed \n",
    "df['Speed'] = df['Distance'] / df['DT']"
   ]
  },
  {
   "cell_type": "code",
   "execution_count": null,
   "metadata": {
    "id": "TdrwHJIR0ghe"
   },
   "outputs": [],
   "source": [
    "df['Speed'].iloc[0] = 0.0"
   ]
  },
  {
   "cell_type": "code",
   "execution_count": null,
   "metadata": {
    "id": "TWrBzjzuyfvw"
   },
   "outputs": [],
   "source": [
    "for i in range(len(df)-1):\n",
    "  if df['Trip'].iloc[i] != df['Trip'].iloc[i+1]:\n",
    "    df['Speed'].iloc[i+1] = 0"
   ]
  },
  {
   "cell_type": "code",
   "execution_count": null,
   "metadata": {
    "id": "xiDIK4wayfyW"
   },
   "outputs": [],
   "source": [
    "# Compute Delta Speed\n",
    "D_Speed = []\n",
    "for i in range(len(df)-1):\n",
    "  D_Speed.append(df['Speed'].iloc[i+1] - df['Speed'].iloc[i])"
   ]
  },
  {
   "cell_type": "code",
   "execution_count": null,
   "metadata": {
    "id": "8tSbmuR7yf1E"
   },
   "outputs": [],
   "source": [
    "D_Speed.insert(0, 0)"
   ]
  },
  {
   "cell_type": "code",
   "execution_count": null,
   "metadata": {
    "id": "VTZhHQDmy4Od"
   },
   "outputs": [],
   "source": [
    "df['D_Speed'] = D_Speed"
   ]
  },
  {
   "cell_type": "code",
   "execution_count": null,
   "metadata": {
    "id": "JZb1CFfiy4RM"
   },
   "outputs": [],
   "source": [
    "# Compute Acceleation or Decelaraion\n",
    "df['Acc'] = df['D_Speed'] / df['DT']"
   ]
  },
  {
   "cell_type": "code",
   "execution_count": null,
   "metadata": {
    "id": "mSSG447N0mI1"
   },
   "outputs": [],
   "source": [
    "df['Acc'].iloc[0] = 0.0"
   ]
  },
  {
   "cell_type": "code",
   "execution_count": null,
   "metadata": {
    "id": "6vtW4XEYy4Tb"
   },
   "outputs": [],
   "source": [
    "for i in range(len(df)-1):\n",
    "  if df['Trip'].iloc[i] != df['Trip'].iloc[i+1]:\n",
    "    df['Acc'].iloc[i+1] = 0"
   ]
  },
  {
   "cell_type": "code",
   "execution_count": null,
   "metadata": {
    "id": "2G7t_sf_y4Wo"
   },
   "outputs": [],
   "source": [
    "# Compute Delta Acceleration\n",
    "D_Acc = []\n",
    "for i in range(len(df)-1):\n",
    "  D_Acc.append(df['Acc'].iloc[i+1] - df['Acc'].iloc[i])"
   ]
  },
  {
   "cell_type": "code",
   "execution_count": null,
   "metadata": {
    "id": "787Jww-pyf3P"
   },
   "outputs": [],
   "source": [
    "D_Acc.insert(0, 0)"
   ]
  },
  {
   "cell_type": "code",
   "execution_count": null,
   "metadata": {
    "id": "4-NG_cn8yf5W"
   },
   "outputs": [],
   "source": [
    "df['D_Acc'] = D_Acc"
   ]
  },
  {
   "cell_type": "code",
   "execution_count": null,
   "metadata": {
    "id": "NoIdrV8RzdnI"
   },
   "outputs": [],
   "source": [
    "# Compute Jerk\n",
    "df['Jerk'] = df['D_Acc'] / df['DT']"
   ]
  },
  {
   "cell_type": "code",
   "execution_count": null,
   "metadata": {
    "id": "pOwY3-4G0pkX"
   },
   "outputs": [],
   "source": [
    "df['Jerk'].iloc[0] = 0.0"
   ]
  },
  {
   "cell_type": "code",
   "execution_count": null,
   "metadata": {
    "id": "eU996Q07yf8D"
   },
   "outputs": [],
   "source": [
    "for i in range(len(df)-1):\n",
    "  if df['Trip'].iloc[i] != df['Trip'].iloc[i+1]:\n",
    "    df['Jerk'].iloc[i+1] = 0"
   ]
  },
  {
   "cell_type": "code",
   "execution_count": null,
   "metadata": {
    "id": "ihonHWTU2q1n"
   },
   "outputs": [],
   "source": [
    "# Change Latitude, Longitude, and Altitude from String to Number\n",
    "df['Latitude'] = pd.to_numeric(df['Latitude'])\n",
    "df['Longitude'] = pd.to_numeric(df['Longitude'])\n",
    "df['Altitude'] = pd.to_numeric(df['Altitude'])"
   ]
  },
  {
   "cell_type": "code",
   "execution_count": null,
   "metadata": {
    "id": "fRPpoUhdzU8-"
   },
   "outputs": [],
   "source": [
    "# Calculate Bearing feature between two GPS points \n",
    "bearing = []\n",
    "\n",
    "for i in range(len(df)-1):\n",
    "  y = math.sin(math.radians(df['Longitude'].iloc[i+1]) - math.radians(df['Longitude'].iloc[i])) * math.radians(math.cos(df['Latitude'].iloc[i+1]))\n",
    "  x = math.radians(math.cos(df['Latitude'].iloc[i])) * math.radians(math.sin(df['Latitude'].iloc[i+1])) - \\\n",
    "                math.radians(math.sin(df['Latitude'].iloc[i])) * math.radians(math.cos(df['Latitude'].iloc[i+1])) \\\n",
    "                * math.radians(math.cos(df['Longitude'].iloc[i+1]) - math.radians(df['Longitude'].iloc[i]))\n",
    "  b = (math.atan2(y, x) * 180. / math.pi + 360) % 360\n",
    "  bearing.append(b)"
   ]
  },
  {
   "cell_type": "code",
   "execution_count": null,
   "metadata": {
    "id": "Yp597FhPz7_h"
   },
   "outputs": [],
   "source": [
    "bearing.insert(0,0)\n",
    "df['Bearing'] = bearing"
   ]
  },
  {
   "cell_type": "code",
   "execution_count": null,
   "metadata": {
    "id": "6zO-ceRAz8FE"
   },
   "outputs": [],
   "source": [
    "for i in range(len(df)-1):\n",
    "  if df['Trip'].iloc[i] != df['Trip'].iloc[i+1]:\n",
    "    df['Bearing'].iloc[i+1] = 0"
   ]
  },
  {
   "cell_type": "code",
   "execution_count": null,
   "metadata": {
    "id": "svQ5sN0k2_C4"
   },
   "outputs": [],
   "source": [
    "# Extract Cumulative Distance Feature for each single Trip\n",
    "ggg = df.groupby('Trip')\n",
    "Cum = []\n",
    "\n",
    "for i, j in ggg:\n",
    "  Cum.append((np.cumsum(j['Distance'])))"
   ]
  },
  {
   "cell_type": "code",
   "execution_count": null,
   "metadata": {
    "id": "uUroI6JH2_I7"
   },
   "outputs": [],
   "source": [
    "temp = []\n",
    "for i in range(len(Cum)):\n",
    "  temp.extend(Cum[i])"
   ]
  },
  {
   "cell_type": "code",
   "execution_count": null,
   "metadata": {
    "id": "8qObT7Ov6Enh"
   },
   "outputs": [],
   "source": [
    "df['Cum_Distance'] = temp"
   ]
  },
  {
   "cell_type": "code",
   "execution_count": null,
   "metadata": {
    "id": "aOEnaf_X2_Ps"
   },
   "outputs": [],
   "source": [
    "# Drop Extra Columns\n",
    "df.drop(['D_Speed','D_Acc'],axis=1,inplace=True)"
   ]
  },
  {
   "cell_type": "code",
   "execution_count": null,
   "metadata": {
    "id": "YXiIbkxx-rer"
   },
   "outputs": [],
   "source": [
    "df.replace({\"taxi\": \"car\", \"subway\": \"train\"},inplace= True)"
   ]
  },
  {
   "cell_type": "code",
   "execution_count": null,
   "metadata": {
    "id": "KPXmtW_D-cVc"
   },
   "outputs": [],
   "source": [
    "# Apply Exponential Moving Average to Noises for Speed Feature\n",
    "All_Modes = [\"bike\", \"bus\", \"car\", \"train\", \"walk\"]\n",
    "List = []\n",
    "for item in All_Modes:\n",
    "  mode = item\n",
    "  print(mode)\n",
    "  feature = \"Speed\"\n",
    "  mean = df[df['Mode'] == mode][feature].mean()\n",
    "  std = df[df['Mode'] == mode][feature].std()\n",
    "  down_bound = mean - (3 * std)\n",
    "  up_bound = mean + (3 *std)\n",
    "  for i in range(len(df)):\n",
    "    if df[\"Mode\"].iloc[i] == mode and (df[feature].iloc[i] > up_bound or df[feature].iloc[i] < down_bound):\n",
    "      df[feature].iloc[i] = (df[feature].ewm(alpha=0.1, adjust=False).mean().iloc[i])"
   ]
  },
  {
   "cell_type": "code",
   "execution_count": null,
   "metadata": {
    "colab": {
     "background_save": true
    },
    "id": "miKBivwd-cX2"
   },
   "outputs": [],
   "source": [
    "# Apply Exponential Moving Average to Noises for Acceleration Feature\n",
    "All_Modes = [\"bike\", \"bus\", \"car\", \"train\", \"walk\"]\n",
    "List = []\n",
    "for item in All_Modes:\n",
    "  mode = item\n",
    "  print(mode)\n",
    "  feature = \"Acc\"\n",
    "  mean = df[df['Mode'] == mode][feature].mean()\n",
    "  std = df[df['Mode'] == mode][feature].std()\n",
    "  down_bound = mean - (3 * std)\n",
    "  up_bound = mean + (3 *std)\n",
    "  for i in range(len(df)):\n",
    "    if df[\"Mode\"].iloc[i] == mode and (df[feature].iloc[i] > up_bound or df[feature].iloc[i] < down_bound):\n",
    "      df[feature].iloc[i] = (df[feature].ewm(alpha=0.1, adjust=False).mean().iloc[i])"
   ]
  },
  {
   "cell_type": "code",
   "execution_count": null,
   "metadata": {
    "id": "jZD2aqRkCkFr"
   },
   "outputs": [],
   "source": [
    "# Apply Exponential Moving Average to Noises for Jerk Feature\n",
    "All_Modes = [\"bike\", \"bus\", \"car\", \"train\", \"walk\"]\n",
    "List = []\n",
    "for item in All_Modes:\n",
    "  mode = item\n",
    "  print(mode)\n",
    "  feature = \"Jerk\"\n",
    "  mean = df[df['Mode'] == mode][feature].mean()\n",
    "  std = df[df['Mode'] == mode][feature].std()\n",
    "  down_bound = mean - (3 * std)\n",
    "  up_bound = mean + (3 *std)\n",
    "  for i in range(len(df)):\n",
    "    if df[\"Mode\"].iloc[i] == mode and (df[feature].iloc[i] > up_bound or df[feature].iloc[i] < down_bound):\n",
    "      df[feature].iloc[i] = (df[feature].ewm(alpha=0.1, adjust=False).mean().iloc[i])"
   ]
  },
  {
   "cell_type": "code",
   "execution_count": null,
   "metadata": {
    "id": "pcpOot6JeL6k"
   },
   "outputs": [],
   "source": [
    "# Drop Trips with Length Smaller than 60 rows of GPS Data\n",
    "min = 60\n",
    "DF = pd.DataFrame()\n",
    "for i, j in df.groupby('Trip'):\n",
    "  if len(j) > min:\n",
    "    DF = DF.append(j)"
   ]
  },
  {
   "cell_type": "code",
   "execution_count": null,
   "metadata": {
    "id": "HnJqnea3_-ED"
   },
   "outputs": [],
   "source": [
    "DF.reset_index(drop = True, inplace = True)"
   ]
  },
  {
   "cell_type": "code",
   "execution_count": null,
   "metadata": {
    "id": "uOfqyYUEDR7T"
   },
   "outputs": [],
   "source": [
    "with open(\"004_Preprocessed_Data.pickle\", 'wb') as f: \n",
    "    pickle.dump(DF, f)"
   ]
  },
  {
   "cell_type": "code",
   "execution_count": null,
   "metadata": {
    "id": "Kfo_saBy1NTr"
   },
   "outputs": [],
   "source": []
  }
 ],
 "metadata": {
  "accelerator": "GPU",
  "colab": {
   "collapsed_sections": [],
   "machine_shape": "hm",
   "name": "004_Preprocessing.ipynb",
   "provenance": []
  },
  "kernelspec": {
   "display_name": "Python 3",
   "language": "python",
   "name": "python3"
  },
  "language_info": {
   "codemirror_mode": {
    "name": "ipython",
    "version": 3
   },
   "file_extension": ".py",
   "mimetype": "text/x-python",
   "name": "python",
   "nbconvert_exporter": "python",
   "pygments_lexer": "ipython3",
   "version": "3.7.10"
  }
 },
 "nbformat": 4,
 "nbformat_minor": 1
}
