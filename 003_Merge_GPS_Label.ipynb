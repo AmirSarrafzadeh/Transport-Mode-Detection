{
 "cells": [
  {
   "cell_type": "code",
   "execution_count": null,
   "metadata": {
    "colab": {
     "base_uri": "https://localhost:8080/"
    },
    "executionInfo": {
     "elapsed": 24471,
     "status": "ok",
     "timestamp": 1624568568916,
     "user": {
      "displayName": "Amir sarrafzadeh",
      "photoUrl": "https://lh3.googleusercontent.com/a-/AOh14GgF4jrw5H5CJhyyB1ApCoS9hQnBVQeXVXHtH8_pLQ=s64",
      "userId": "14181695720010602226"
     },
     "user_tz": -120
    },
    "id": "KPpdD3JqqFJ4",
    "outputId": "3b2daa85-32ab-41c4-dcdd-4d7524897a73"
   },
   "outputs": [
    {
     "name": "stdout",
     "output_type": "stream",
     "text": [
      "Mounted at /content/gdrive\n"
     ]
    }
   ],
   "source": [
    "# Mount Google Drive\n",
    "from google.colab import drive\n",
    "drive.mount('/content/gdrive')"
   ]
  },
  {
   "cell_type": "code",
   "execution_count": null,
   "metadata": {
    "colab": {
     "base_uri": "https://localhost:8080/"
    },
    "executionInfo": {
     "elapsed": 384,
     "status": "ok",
     "timestamp": 1624568572347,
     "user": {
      "displayName": "Amir sarrafzadeh",
      "photoUrl": "https://lh3.googleusercontent.com/a-/AOh14GgF4jrw5H5CJhyyB1ApCoS9hQnBVQeXVXHtH8_pLQ=s64",
      "userId": "14181695720010602226"
     },
     "user_tz": -120
    },
    "id": "7Z4iBvkGqG_g",
    "outputId": "d830ee18-d350-4f30-d881-3e20c3a4cf70"
   },
   "outputs": [
    {
     "name": "stdout",
     "output_type": "stream",
     "text": [
      "Libraries Are Imported\n"
     ]
    }
   ],
   "source": [
    "# Import Libraries\n",
    "import os\n",
    "import pandas as pd\n",
    "import time \n",
    "import datetime\n",
    "import pickle\n",
    "pd.options.mode.chained_assignment = None\n",
    "print(\"Libraries Are Imported\")"
   ]
  },
  {
   "cell_type": "code",
   "execution_count": null,
   "metadata": {
    "id": "wjk2T3wUqHE-"
   },
   "outputs": [],
   "source": [
    "# Define Path of GPS and Label Pickle Data\n",
    "path = '---------------------------------'\n",
    "os.chdir(path)"
   ]
  },
  {
   "cell_type": "code",
   "execution_count": null,
   "metadata": {
    "id": "FSh1DtYiRC8U"
   },
   "outputs": [],
   "source": [
    "# Read All GPS Data\n",
    "GPS = '001_All_GeoLife_GPS.pickle'\n",
    "infile = open(GPS,'rb')\n",
    "GPS_1 = pickle.load(infile)\n",
    "infile.close()"
   ]
  },
  {
   "cell_type": "code",
   "execution_count": null,
   "metadata": {
    "id": "GQuPSdjVEduz"
   },
   "outputs": [],
   "source": [
    "# Merge Date and Time Column of GPS Data\n",
    "GPS_1['Date'] = GPS_1['Date'] + \" \" + GPS_1['Time']"
   ]
  },
  {
   "cell_type": "code",
   "execution_count": null,
   "metadata": {
    "id": "sF7dyCD-El3Z"
   },
   "outputs": [],
   "source": [
    "# Drop Time Column of GPS Data\n",
    "GPS_1.drop('Time', inplace = True, axis =1)"
   ]
  },
  {
   "cell_type": "code",
   "execution_count": null,
   "metadata": {
    "id": "IttuKUp4RDBN"
   },
   "outputs": [],
   "source": [
    "# Read All Label Data \n",
    "Label = 'All_GeoLife_Label.pickle'\n",
    "infile = open(Label,'rb')\n",
    "Label_1 = pickle.load(infile)\n",
    "infile.close()"
   ]
  },
  {
   "cell_type": "code",
   "execution_count": null,
   "metadata": {
    "colab": {
     "base_uri": "https://localhost:8080/"
    },
    "executionInfo": {
     "elapsed": 6,
     "status": "ok",
     "timestamp": 1624568606682,
     "user": {
      "displayName": "Amir sarrafzadeh",
      "photoUrl": "https://lh3.googleusercontent.com/a-/AOh14GgF4jrw5H5CJhyyB1ApCoS9hQnBVQeXVXHtH8_pLQ=s64",
      "userId": "14181695720010602226"
     },
     "user_tz": -120
    },
    "id": "HyKUsyZzoh6t",
    "outputId": "fffe63ab-9e28-442a-ff8f-7335788c49d0"
   },
   "outputs": [
    {
     "data": {
      "text/plain": [
       "['bus',\n",
       " 'car',\n",
       " 'walk',\n",
       " 'bike',\n",
       " 'taxi',\n",
       " 'train',\n",
       " 'subway',\n",
       " 'airplane',\n",
       " 'run',\n",
       " 'boat',\n",
       " 'motorcycle']"
      ]
     },
     "execution_count": 9,
     "metadata": {
      "tags": []
     },
     "output_type": "execute_result"
    }
   ],
   "source": [
    "# All Modes of Transport in the All Geolife Dataset\n",
    "Mode_List = Label_1['Mode'].unique().tolist()\n",
    "Mode_List"
   ]
  },
  {
   "cell_type": "code",
   "execution_count": null,
   "metadata": {
    "id": "tZjKcJ5Ghdgf"
   },
   "outputs": [],
   "source": [
    "Date = []\n",
    "Mode = []\n",
    "User = []\n",
    "TS = []\n",
    "\n",
    "for i in range(len(Label_1)):\n",
    "  Date.append(Label_1['Start'].iloc[i])\n",
    "  Date.append(Label_1['End'].iloc[i])\n",
    "  Mode.append(Label_1['Mode'].iloc[i])\n",
    "  Mode.append(Label_1['Mode'].iloc[i])\n",
    "  User.append(Label_1['User'].iloc[i])\n",
    "  User.append(Label_1['User'].iloc[i])\n",
    "  TS.append(Label_1['Start_TS'].iloc[i])\n",
    "  TS.append(Label_1['End_TS'].iloc[i])"
   ]
  },
  {
   "cell_type": "code",
   "execution_count": null,
   "metadata": {
    "id": "hgf3lr3fjB1I"
   },
   "outputs": [],
   "source": [
    "Data = {'Date':Date, 'User':User, 'Mode':Mode, 'TS':TS}"
   ]
  },
  {
   "cell_type": "code",
   "execution_count": null,
   "metadata": {
    "id": "kkQfxyqQjCCl"
   },
   "outputs": [],
   "source": [
    "Label = pd.DataFrame(Data)"
   ]
  },
  {
   "cell_type": "code",
   "execution_count": null,
   "metadata": {
    "id": "ja9rC80HhHLg"
   },
   "outputs": [],
   "source": [
    "# Labeling GPS Data Points\n",
    "All_Df = {}\n",
    "for i in GPS_1['User'].unique():\n",
    "  Temp_gps = GPS_1[GPS_1['User'] == i]\n",
    "  temp_lab = Label[Label['User'] == i]\n",
    "  frames = [Temp_gps, temp_lab]\n",
    "  Temp = pd.concat(frames)\n",
    "  frames = []\n",
    "  Temp = Temp.sort_values('TS')\n",
    "  \n",
    "  ind = []\n",
    "  for j in range(len(Temp)):\n",
    "    if Temp['Mode'].iloc[j] in Mode_List:\n",
    "      ind.append(j)\n",
    "\n",
    "  l = 0\n",
    "  k = 0\n",
    "\n",
    "  while l < len(ind):\n",
    "    Temp['Mode'][ind[l]:ind[l+1]] = temp_lab['Mode'].iloc[k]\n",
    "    l += 2\n",
    "    k += 2\n",
    "\n",
    "  All_Df[f'{i}'] = Temp"
   ]
  },
  {
   "cell_type": "code",
   "execution_count": null,
   "metadata": {
    "id": "gukgj3_cKxxw"
   },
   "outputs": [],
   "source": [
    "for i in All_Df.keys():\n",
    "  All_Df[f'{i}'].dropna(inplace = True)"
   ]
  },
  {
   "cell_type": "code",
   "execution_count": null,
   "metadata": {
    "id": "vfqbKgdWqFKF"
   },
   "outputs": [],
   "source": [
    "with open(\"003_Labeled_GeoLife.pickle\", 'wb') as f: \n",
    "    pickle.dump(All_Df, f)"
   ]
  },
  {
   "cell_type": "code",
   "execution_count": null,
   "metadata": {
    "id": "Q95u3MRi1fTJ"
   },
   "outputs": [],
   "source": []
  }
 ],
 "metadata": {
  "accelerator": "GPU",
  "colab": {
   "collapsed_sections": [],
   "machine_shape": "hm",
   "name": "003_Merge_GPS_Label.ipynb",
   "provenance": []
  },
  "kernelspec": {
   "display_name": "Python 3",
   "language": "python",
   "name": "python3"
  },
  "language_info": {
   "codemirror_mode": {
    "name": "ipython",
    "version": 3
   },
   "file_extension": ".py",
   "mimetype": "text/x-python",
   "name": "python",
   "nbconvert_exporter": "python",
   "pygments_lexer": "ipython3",
   "version": "3.7.10"
  }
 },
 "nbformat": 4,
 "nbformat_minor": 1
}
